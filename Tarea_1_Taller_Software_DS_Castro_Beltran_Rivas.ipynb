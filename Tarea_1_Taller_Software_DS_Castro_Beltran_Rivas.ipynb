{
 "cells": [
  {
   "cell_type": "code",
   "execution_count": 14,
   "metadata": {},
   "outputs": [],
   "source": [
    "import random"
   ]
  },
  {
   "cell_type": "markdown",
   "metadata": {},
   "source": [
    "Clase que representa una respuesta de la encuesta con atributos de sexo, edad y respuesta"
   ]
  },
  {
   "cell_type": "code",
   "execution_count": 15,
   "metadata": {},
   "outputs": [],
   "source": [
    "class CreateRespuesta:\n",
    "    def __init__(self, Sexo, Edad, Respuesta):\n",
    "        self.Sexo = Sexo\n",
    "        self.Edad = Edad\n",
    "        self.Respuesta = Respuesta\n",
    "    \n",
    "    def funcion(self):\n",
    "        return f\"{self.Sexo} {self.Edad} {self.Respuesta}\\n\""
   ]
  },
  {
   "cell_type": "markdown",
   "metadata": {},
   "source": [
    "Función para crear un archivo CSV con 300 respuestas aleatorias"
   ]
  },
  {
   "cell_type": "code",
   "execution_count": 16,
   "metadata": {},
   "outputs": [],
   "source": [
    "def createCSV():\n",
    "    with open(\"encuesta_habitos.csv\", \"w\") as archivo:\n",
    "        archivo.write(\"Sexo Edad Respuesta\\n\")\n",
    "        for _ in range(300):\n",
    "            persona = CreateRespuesta(\"Femenino\" if random.random()<=0.5 else \"Masculino\", random.randint(18,45), \"Sí\" if random.randint(1,3)==1 else \"No\" if random.randint(2,3)==2 else \"Tal vez\")\n",
    "            archivo.write(persona.funcion())\n",
    "\n",
    "        archivo.close()\n",
    "\n",
    "createCSV()"
   ]
  },
  {
   "cell_type": "code",
   "execution_count": 17,
   "metadata": {},
   "outputs": [],
   "source": [
    "import tkinter as tk\n",
    "from tkinter import simpledialog, messagebox"
   ]
  },
  {
   "cell_type": "markdown",
   "metadata": {},
   "source": [
    "Función para leer un archivo CSV y almacenar los datos en un diccionario"
   ]
  },
  {
   "cell_type": "code",
   "execution_count": 18,
   "metadata": {},
   "outputs": [],
   "source": [
    "def leer_archivo_csv(nombre_archivo):\n",
    "    datos = {'Sexo': [], 'Edad': [], 'Respuesta': []}\n",
    "\n",
    "    try:\n",
    "        with open(f'{nombre_archivo}.csv', 'r') as archivo:\n",
    "            archivo.readline()\n",
    "            for linea in archivo:\n",
    "                valores = linea.strip().split(' ')\n",
    "                datos['Sexo'].append(valores[0])\n",
    "                datos['Edad'].append(valores[1])\n",
    "                if len(valores) == 3:\n",
    "                    datos['Respuesta'].append(valores[2])\n",
    "                else:\n",
    "                    datos['Respuesta'].append(f'{valores[2]} {valores[3]}')\n",
    "    except FileNotFoundError:\n",
    "        messagebox.showerror(\"Error\", f'No se encontró el archivo: {nombre_archivo}')\n",
    "    except Exception as e:\n",
    "        messagebox.showerror(\"Error\", f'Error al leer el archivo: {e}')\n",
    "    \n",
    "    return datos"
   ]
  },
  {
   "cell_type": "code",
   "execution_count": 19,
   "metadata": {},
   "outputs": [],
   "source": [
    "def promedio_edad(edad):\n",
    "    return sum(edad)/len(edad)"
   ]
  },
  {
   "cell_type": "code",
   "execution_count": 20,
   "metadata": {},
   "outputs": [],
   "source": [
    "def mediana_edad(edad):\n",
    "    edad.sort()\n",
    "    largo_edad = int(len(edad))\n",
    "    indice_1, indice_2 = (largo_edad//2)-1, (largo_edad//2)\n",
    "    if largo_edad % 2 == 0:\n",
    "        return (edad[int(indice_1)] + edad[int(indice_2)])/2\n",
    "    else:\n",
    "        return edad[int(indice_1)]"
   ]
  },
  {
   "cell_type": "code",
   "execution_count": 21,
   "metadata": {},
   "outputs": [],
   "source": [
    "def contar_frecuencia(respuesta):\n",
    "    frecuencia = {}\n",
    "    for elemento in respuesta:\n",
    "        frecuencia[elemento] = frecuencia.get(elemento, 0) + 1\n",
    "    return frecuencia"
   ]
  },
  {
   "cell_type": "code",
   "execution_count": 22,
   "metadata": {},
   "outputs": [],
   "source": [
    "def moda_edad(edad):\n",
    "    frecuencia = contar_frecuencia(edad)\n",
    "    max_frecuencia = max(frecuencia.values())\n",
    "    return [key for key, value in frecuencia.items() if value == max_frecuencia]"
   ]
  },
  {
   "cell_type": "markdown",
   "metadata": {},
   "source": [
    "Función que procesa los datos de la encuesta y muestra estadísticas"
   ]
  },
  {
   "cell_type": "code",
   "execution_count": 23,
   "metadata": {},
   "outputs": [],
   "source": [
    "def procesador_encuesta(datos_encuesta):\n",
    "    edad = [int(elemento) for elemento in datos_encuesta[\"Edad\"]]\n",
    "    promedio = promedio_edad(edad)\n",
    "    mediana = mediana_edad(edad)\n",
    "    moda = moda_edad(edad)\n",
    "    frecuencias = contar_frecuencia(datos_encuesta[\"Respuesta\"])\n",
    "    \n",
    "    resultado = f\"Promedio = {promedio}\\nMediana = {mediana}\\nModa = {moda}\\n\\nFrecuencias de Respuestas:\\n\"\n",
    "    for key, value in frecuencias.items():\n",
    "        resultado += f\"{key}: {value}\\n\"\n",
    "    \n",
    "    messagebox.showinfo(\"Resultados de la Encuesta\", resultado)\n"
   ]
  },
  {
   "cell_type": "markdown",
   "metadata": {},
   "source": [
    "Menú interactivo con opciones para gestionar los datos de la encuesta"
   ]
  },
  {
   "cell_type": "code",
   "execution_count": 24,
   "metadata": {},
   "outputs": [],
   "source": [
    "def menu_interactivo():\n",
    "    root = tk.Tk()\n",
    "    root.withdraw()\n",
    "    while True:\n",
    "        opcion = simpledialog.askstring(\"Menú\", \"Seleccione una opción:\\n\\n1) Leer archivo de datos\\n2) Mostrar estadísticas generales\\n3) Filtrar datos por sexo\\n4) Filtrar datos por rango de edad\\n5) Guardar resultados en un archivo\\n6) Salir\").upper()\n",
    "        \n",
    "        if opcion == \"1\":\n",
    "            global datos_encuesta\n",
    "            archivo = simpledialog.askstring(\"Entrada\", \"¿Cuál es el nombre del archivo?\")\n",
    "            if archivo:\n",
    "                datos_encuesta = leer_archivo_csv(archivo)\n",
    "                messagebox.showinfo(\"Éxito\", \"Archivo leído correctamente\")\n",
    "        elif opcion == \"2\":\n",
    "            if datos_encuesta:\n",
    "                procesador_encuesta(datos_encuesta)\n",
    "            else:\n",
    "                messagebox.showerror(\"Error\", \"No hay datos cargados\")\n",
    "        elif opcion == \"3\":\n",
    "            sexo = simpledialog.askstring(\"Filtro\", \"Ingrese el sexo a filtrar (Femenino/Masculino):\")\n",
    "            datos_filtrados = {key: [datos_encuesta[key][i] for i in range(len(datos_encuesta[\"Sexo\"])) if datos_encuesta[\"Sexo\"][i] == sexo] for key in datos_encuesta}\n",
    "            procesador_encuesta(datos_filtrados)\n",
    "        elif opcion == \"4\":\n",
    "            edad_min = int(simpledialog.askstring(\"Filtro\", \"Ingrese la edad mínima:\"))\n",
    "            edad_max = int(simpledialog.askstring(\"Filtro\", \"Ingrese la edad máxima:\"))\n",
    "            datos_filtrados = {key: [datos_encuesta[key][i] for i in range(len(datos_encuesta[\"Edad\"])) if edad_min <= int(datos_encuesta[\"Edad\"][i]) <= edad_max] for key in datos_encuesta}\n",
    "            procesador_encuesta(datos_filtrados)\n",
    "        elif opcion == \"5\":\n",
    "            with open(\"resultados.txt\", \"w\") as archivo:\n",
    "                archivo.write(\"Resultados de la Encuesta\\n\\n\")\n",
    "                archivo.write(f\"Promedio de edad: {promedio_edad([int(e) for e in datos_encuesta['Edad']])}\\n\")\n",
    "                archivo.write(f\"Mediana de edad: {mediana_edad([int(e) for e in datos_encuesta['Edad']])}\\n\")\n",
    "                archivo.write(f\"Moda de edad: {moda_edad([int(e) for e in datos_encuesta['Edad']])}\\n\")\n",
    "                archivo.write(\"\\nFrecuencia de respuestas:\\n\")\n",
    "                for key, value in contar_frecuencia(datos_encuesta[\"Respuesta\"]).items():\n",
    "                    archivo.write(f\"{key}: {value}\\n\")\n",
    "            messagebox.showinfo(\"Éxito\", \"Resultados guardados en 'resultados.txt'\")\n",
    "        elif opcion == \"6\":\n",
    "            break\n",
    "        else:\n",
    "            messagebox.showerror(\"Error\", \"Opción no válida\")\n",
    "\n",
    "menu_interactivo()\n"
   ]
  },
  {
   "cell_type": "markdown",
   "metadata": {},
   "source": [
    "Conclusión:\n",
    "El código implementa un sistema de gestión de encuestas donde se generan datos aleatorios, se almacenan en un archivo CSV y posteriormente se procesan #ara extraer estadísticas relevantes. La interfaz gráfica basada en Tkinter facilita la interacción del usuario. Se destacan las funciones de cálculo de medidas estadísticas como promedio, mediana y moda, además del análisis de frecuencias de respuestas.
Repositorio :https://github.com/ZakuG/Solemne_1"
   ]
  }
 ],
 "metadata": {
  "kernelspec": {
   "display_name": "Python 3",
   "language": "python",
   "name": "python3"
  },
  "language_info": {
   "codemirror_mode": {
    "name": "ipython",
    "version": 3
   },
   "file_extension": ".py",
   "mimetype": "text/x-python",
   "name": "python",
   "nbconvert_exporter": "python",
   "pygments_lexer": "ipython3",
   "version": "3.11.9"
  }
 },
 "nbformat": 4,
 "nbformat_minor": 2
}
